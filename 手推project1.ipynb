{
 "cells": [
  {
   "cell_type": "code",
   "execution_count": 14,
   "metadata": {},
   "outputs": [],
   "source": [
    "import pandas as pd\n",
    "import numpy as np\n",
    "\n",
    "df = pd.read_csv('./train.csv',names = ['date','place','item',0,1,2,3,4,5,6,7,8,9,10,11,12,13,14,15,16,17,18,19,20,21,22,23])"
   ]
  },
  {
   "cell_type": "code",
   "execution_count": 15,
   "metadata": {},
   "outputs": [],
   "source": [
    "df.drop([10,11,12,13,14,15,16,17,18,19,20,21,22,23],axis = 1,inplace = True)\n",
    "df.drop(index = 0,inplace = True)\n",
    "df.drop(['date','place','item'],axis = 1,inplace = True)\n",
    "df.replace('NR',0,inplace = True)"
   ]
  },
  {
   "cell_type": "code",
   "execution_count": 16,
   "metadata": {},
   "outputs": [],
   "source": [
    "x_list,y_list = [],[]\n",
    "# astype() 转换array中元素数据类型\n",
    "array = np.array(df).astype(float)\n",
    "for i in range(0,4320,18):\n",
    "    mat = array[i:i+18,:9]\n",
    "    label = array[i+9,9]\n",
    "    x_list.append(mat)\n",
    "    y_list.append(label)\n",
    "    \n",
    "x = np.array(x_list)\n",
    "y = np.array(y_list)"
   ]
  },
  {
   "cell_type": "code",
   "execution_count": 35,
   "metadata": {},
   "outputs": [
    {
     "name": "stdout",
     "output_type": "stream",
     "text": [
      "(240, 18, 9) (240,)\n"
     ]
    }
   ],
   "source": [
    "print(x.shape,y.shape)"
   ]
  },
  {
   "cell_type": "code",
   "execution_count": 37,
   "metadata": {},
   "outputs": [],
   "source": [
    "#划分训练集与验证集\n",
    "x_train, y_train = x[0:180], y[0:180]\n",
    "x_val, y_val = x[180:240], y[180:240]\n",
    "epoch = 2000 # 训练轮数"
   ]
  },
  {
   "cell_type": "code",
   "execution_count": 38,
   "metadata": {},
   "outputs": [
    {
     "data": {
      "text/plain": [
       "(180, 18, 9)"
      ]
     },
     "execution_count": 38,
     "metadata": {},
     "output_type": "execute_result"
    }
   ],
   "source": [
    "x_train.shape"
   ]
  },
  {
   "cell_type": "code",
   "execution_count": 58,
   "metadata": {},
   "outputs": [
    {
     "name": "stdout",
     "output_type": "stream",
     "text": [
      "after 0 epochs, the loss on train data is: 84.55583333333334\n",
      "after 200 epochs, the loss on train data is: 51.187469140425605\n",
      "after 400 epochs, the loss on train data is: 49.89318678587919\n",
      "after 600 epochs, the loss on train data is: 49.30219199274659\n",
      "after 800 epochs, the loss on train data is: 48.93985393826833\n",
      "after 1000 epochs, the loss on train data is: 48.694166547245764\n",
      "after 1200 epochs, the loss on train data is: 48.518131631871796\n",
      "after 1400 epochs, the loss on train data is: 48.38641527940119\n",
      "after 1600 epochs, the loss on train data is: 48.284044545938684\n",
      "after 1800 epochs, the loss on train data is: 48.201751585791875\n",
      "after 2000 epochs, the loss on train data is: 48.133603704128845\n",
      "after 2200 epochs, the loss on train data is: 48.075692933560646\n",
      "after 2400 epochs, the loss on train data is: 48.025379461246956\n",
      "after 2600 epochs, the loss on train data is: 47.98084012578855\n",
      "after 2800 epochs, the loss on train data is: 47.940790794919685\n",
      "after 3000 epochs, the loss on train data is: 47.90431087898716\n",
      "after 3200 epochs, the loss on train data is: 47.870729591527294\n",
      "after 3400 epochs, the loss on train data is: 47.839550577207284\n",
      "after 3600 epochs, the loss on train data is: 47.81040099348418\n",
      "after 3800 epochs, the loss on train data is: 47.78299653952527\n",
      "after 4000 epochs, the loss on train data is: 47.757117097369196\n",
      "after 4200 epochs, the loss on train data is: 47.732589559829336\n",
      "after 4400 epochs, the loss on train data is: 47.70927559880561\n",
      "after 4600 epochs, the loss on train data is: 47.68706287331981\n",
      "after 4800 epochs, the loss on train data is: 47.66585865847258\n",
      "after 5000 epochs, the loss on train data is: 47.64558519407322\n",
      "after 5200 epochs, the loss on train data is: 47.626176264577595\n",
      "after 5400 epochs, the loss on train data is: 47.607574666824306\n",
      "after 5600 epochs, the loss on train data is: 47.589730321891956\n",
      "after 5800 epochs, the loss on train data is: 47.57259885695775\n",
      "after 6000 epochs, the loss on train data is: 47.556140531953034\n",
      "after 6200 epochs, the loss on train data is: 47.54031942048347\n",
      "after 6400 epochs, the loss on train data is: 47.525102779225385\n",
      "after 6600 epochs, the loss on train data is: 47.51046055777184\n",
      "after 6800 epochs, the loss on train data is: 47.49636501371814\n",
      "after 7000 epochs, the loss on train data is: 47.48279040706612\n",
      "after 7200 epochs, the loss on train data is: 47.46971275478805\n",
      "after 7400 epochs, the loss on train data is: 47.4571096313306\n",
      "after 7600 epochs, the loss on train data is: 47.4449600044613\n",
      "after 7800 epochs, the loss on train data is: 47.43324409852432\n",
      "after 8000 epochs, the loss on train data is: 47.42194327913964\n",
      "after 8200 epochs, the loss on train data is: 47.41103995483598\n",
      "after 8400 epochs, the loss on train data is: 47.400517492190474\n",
      "after 8600 epochs, the loss on train data is: 47.39036014185537\n",
      "after 8800 epochs, the loss on train data is: 47.380552973455536\n",
      "after 9000 epochs, the loss on train data is: 47.37108181779547\n",
      "after 9200 epochs, the loss on train data is: 47.36193321515548\n",
      "after 9400 epochs, the loss on train data is: 47.35309436871762\n",
      "after 9600 epochs, the loss on train data is: 47.34455310235833\n",
      "after 9800 epochs, the loss on train data is: 47.33629782219677\n"
     ]
    }
   ],
   "source": [
    "#y = b+w*x\n",
    "b = 0 #random initial\n",
    "w = 1 #random initial\n",
    "lr = 1\n",
    "iterations = 10000\n",
    "\n",
    "#store inital values for plotting\n",
    "b_history =[b]\n",
    "w_history = [w]\n",
    "\n",
    "lr_b = 0\n",
    "lr_w = 0\n",
    "#Iterations\n",
    "for i in range(iterations):\n",
    "    b_gradient = 0.0\n",
    "    w_gradient = 0.0\n",
    "    for n in range(len(x_train)): #求偏导\n",
    "        b_gradient = b_gradient - 2*(y_train[n] - (b+w*x_train[n]))*(1.0)\n",
    "        w_gradient = w_gradient - 2*(y_train[n] - (b+w*x_train[n]))*(x_train[n])\n",
    "    #让lr_B/W逐渐变大，下面真正的lr/np.sqrt(lr_b)会在迭代中逐渐变小 \n",
    "    lr_b = lr_b + b_gradient**2\n",
    "    lr_w = lr_w +w_gradient**2\n",
    "    #update parameters\n",
    "    b = b-lr/np.sqrt(lr_b)*b_gradient\n",
    "    w = w-lr/np.sqrt(lr_w)*w_gradient\n",
    "     # 每训练200轮，输出一次在训练集上的损失\n",
    "    if i%200 == 0:\n",
    "        loss = 0\n",
    "        for j in range(len(Ytest)):\n",
    "            jj = abs(x_train[j]*w+b-Ytest[j]).sum()/len(Ytest)\n",
    "        print('after {} epochs, the loss on train data is:'.format(i), jj)"
   ]
  }
 ],
 "metadata": {
  "kernelspec": {
   "display_name": "Python 3",
   "language": "python",
   "name": "python3"
  },
  "language_info": {
   "codemirror_mode": {
    "name": "ipython",
    "version": 3
   },
   "file_extension": ".py",
   "mimetype": "text/x-python",
   "name": "python",
   "nbconvert_exporter": "python",
   "pygments_lexer": "ipython3",
   "version": "3.7.4"
  }
 },
 "nbformat": 4,
 "nbformat_minor": 4
}
